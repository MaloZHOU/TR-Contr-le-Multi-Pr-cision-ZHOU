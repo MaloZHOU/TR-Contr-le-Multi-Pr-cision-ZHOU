{
 "cells": [
  {
   "cell_type": "code",
   "execution_count": 4,
   "metadata": {},
   "outputs": [],
   "source": [
    "include(\"goddard_hermite-Simpson.jl\")\n",
    "include(\"goddard.jl\")\n",
    "include(\"goddard_Euler.jl\")\n",
    "using NLPModels\n",
    "using NLPModelsIpopt\n",
    "using NLPModelsJuMP\n",
    "using SparseArrays\n",
    "using SuiteSparse"
   ]
  },
  {
   "cell_type": "code",
   "execution_count": null,
   "metadata": {},
   "outputs": [],
   "source": [
    "using Plots\n",
    "function normalize_matrix(mat)\n",
    "    min_val = minimum(mat)\n",
    "    max_val = maximum(mat)\n",
    "    (mat .- min_val) ./ (max_val - min_val)\n",
    "end\n",
    "\n",
    "function present_Heatmap(Mat,name=\"\")\n",
    "    norm_matrix = normalize_matrix(Mat)\n",
    "    max_Mat = round(maximum(Mat),sigdigits = 4)\n",
    "    min_Mat = round(minimum(Mat),sigdigits = 4)\n",
    "    Lims = \"[$min_Mat,$max_Mat]\"\n",
    "    heatmap(norm_matrix, color=:grays, \n",
    "            #clims =(min_Mat,max_Mat) ,\n",
    "            xlabel=\"Columns\", ylabel=\"Rows\", title=\"Matrix Heatmap $name $Lims\")\n",
    "end"
   ]
  },
  {
   "cell_type": "code",
   "execution_count": null,
   "metadata": {},
   "outputs": [],
   "source": [
    "nh = 100\n",
    "model = rocket_model(nh)\n",
    "nlp = MathOptNLPModel(model)\n",
    "# Solve with Ipopt\n",
    "res = ipopt(nlp)\n",
    "\n",
    "# Get primal-dual solution\n",
    "x = res.solution\n",
    "y = res.multipliers\n",
    "\n",
    "n = NLPModels.get_nvar(nlp)\n",
    "m = NLPModels.get_ncon(nlp)\n",
    "\n",
    "# Build sparse Hessian \n",
    "nnzh = NLPModels.get_nnzh(nlp)\n",
    "Wi, Wj = NLPModels.hess_structure(nlp)\n",
    "Wz = zeros(nnzh)\n",
    "NLPModels.hess_coord!(nlp, x, y, Wz)\n",
    "W = sparse(Wi, Wj, Wz, n, n)\n",
    "\n",
    "# Build sparse Jacobian \n",
    "nnzj = NLPModels.get_nnzj(nlp)\n",
    "Ji, Jj = NLPModels.jac_structure(nlp)\n",
    "Jz = zeros(nnzj)\n",
    "NLPModels.jac_coord!(nlp, x, Jz)\n",
    "J = sparse(Ji, Jj, Jz, m, n)\n",
    "j1 = Matrix(J)"
   ]
  },
  {
   "cell_type": "code",
   "execution_count": null,
   "metadata": {},
   "outputs": [],
   "source": [
    "F = SparseArrays.SPQR.qr(J)\n",
    "print(F.Q * F.R == J)\n",
    "present_Heatmap(F.Q * F.R)"
   ]
  },
  {
   "cell_type": "code",
   "execution_count": null,
   "metadata": {},
   "outputs": [],
   "source": [
    "W"
   ]
  },
  {
   "cell_type": "code",
   "execution_count": null,
   "metadata": {},
   "outputs": [],
   "source": [
    "using LinearAlgebra\n",
    "Z = nullspace(j1)"
   ]
  },
  {
   "cell_type": "code",
   "execution_count": null,
   "metadata": {},
   "outputs": [],
   "source": [
    "H = Z'*Symmetric(W, :L)*Z\n",
    "present_Heatmap(H,\"H\")"
   ]
  },
  {
   "cell_type": "code",
   "execution_count": null,
   "metadata": {},
   "outputs": [],
   "source": [
    "J* Z"
   ]
  },
  {
   "cell_type": "code",
   "execution_count": null,
   "metadata": {},
   "outputs": [],
   "source": [
    "eigvals(H)"
   ]
  },
  {
   "cell_type": "code",
   "execution_count": null,
   "metadata": {},
   "outputs": [],
   "source": []
  }
 ],
 "metadata": {
  "kernelspec": {
   "display_name": "Julia 1.11.2",
   "language": "julia",
   "name": "julia-1.11"
  },
  "language_info": {
   "file_extension": ".jl",
   "mimetype": "application/julia",
   "name": "julia",
   "version": "1.11.2"
  }
 },
 "nbformat": 4,
 "nbformat_minor": 2
}
