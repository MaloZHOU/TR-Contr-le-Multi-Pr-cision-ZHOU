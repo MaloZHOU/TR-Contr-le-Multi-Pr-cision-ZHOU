{
 "cells": [
  {
   "cell_type": "markdown",
   "metadata": {},
   "source": [
    "Using the Hermite-Simpson Method: \n",
    "$$\n",
    "\\bar{y} = \\frac{1}{2}(y_i+y_{i+1}) + \\frac{h_i}{8}(f_i-f_{i+1}) \\\\\n",
    "\\bar{f} = f(\\bar{y},t_i+\\frac{h_i}{2}) \\\\\n",
    "y_{i+1} = y_i +\\frac{h_i}{6}(f_i+4\\bar{f} + f_{i+1})\n",
    "$$"
   ]
  },
  {
   "cell_type": "markdown",
   "metadata": {},
   "source": [
    "Parmis les équations, la deuxième, où les deux paramètres d'équation dynamique sont pas donné directement, est le plus difficile à réalisé en considérant l'interpolation de l'état et du temps"
   ]
  },
  {
   "cell_type": "code",
   "execution_count": 1,
   "metadata": {},
   "outputs": [],
   "source": [
    "using JuMP\n",
    "using Ipopt\n",
    "#using COPSBenchmark\n",
    "import Plots"
   ]
  },
  {
   "cell_type": "code",
   "execution_count": 2,
   "metadata": {},
   "outputs": [
    {
     "data": {
      "text/plain": [
       "Generate_thrust_hersim (generic function with 2 methods)"
      ]
     },
     "metadata": {},
     "output_type": "display_data"
    }
   ],
   "source": [
    "function rocket_model_hersim(nh)\n",
    "    h_0 = 1.0   #hauteur init\n",
    "    v_0 = 0.0   #vitesse init\n",
    "    m_0 = 1.0   #masse init\n",
    "    g_0 = 1.0   #grativité init\n",
    "    T_c = 3.5\n",
    "    h_c = 500.0\n",
    "    v_c = 620.0\n",
    "    m_c = 0.6\n",
    "\n",
    "    c = 0.5*sqrt(g_0 * h_0)\n",
    "    m_f = m_c * m_0\n",
    "    D_c = 0.5 * v_c * (m_0 / g_0)\n",
    "    T_max = T_c * m_0 * g_0\n",
    "\n",
    "    model = Model()\n",
    "\n",
    "    @variables(model, begin\n",
    "        1.0 <= h[i=0:nh,j=0:1],          (start=1.0)\n",
    "        0.0 <= v[i=0:nh,j=0:1],          (start=i/nh*(1.0 - i/nh))\n",
    "        m_f <= m[i=0:nh,j=0:1] <= m_0,   (start=(m_f - m_0)*(i/nh) + m_0)\n",
    "        0.0 <= T[i=0:nh,j=0:1] <= T_max, (start=T_max/2.0)\n",
    "        0.0 <= step,               (start=1/nh)\n",
    "    end)\n",
    "\n",
    "    @expressions(model, begin\n",
    "        D[i=0:nh,j=0:1],  D_c*v[i,j]^2*exp(-h_c*(h[i,j] - h_0))/h_0\n",
    "        g[i=0:nh,j=0:1],  g_0 * (h_0 / h[i,j])^2\n",
    "        dh[i=0:nh,j=0:1], v[i,j]\n",
    "        dv[i=0:nh,j=0:1], (T[i,j] - D[i,j] - m[i,j]*g[i,j]) / m[i,j]\n",
    "        dm[i=0:nh,j=0:1], -T[i,j]/c\n",
    "    end)\n",
    "\n",
    "    @objective(model, Max, h[nh,0])\n",
    "\n",
    "    # # Dynamics\n",
    "    # @constraints(model, begin\n",
    "    #     con_dh[i=1:nh,j=0:1], h[i,j] == h[i-1,j] + 0.5 * step * (dh[i,j] + dh[i-1,j])\n",
    "    #     con_dv[i=1:nh,j=0:1], v[i,j] == v[i-1,j] + 0.5 * step * (dv[i,j] + dv[i-1,j])\n",
    "    #     con_dm[i=1:nh,j=0:1], m[i,j] == m[i-1,j] + 0.5 * step * (dm[i,j] + dm[i-1,j])  \n",
    "    # end)\n",
    "\n",
    "    #Hermite-Simpson Method\n",
    "    @constraints(model,begin\n",
    "        def_ref_h[i=1:nh-1], h[i,1] == 0.5 * (h[i,0] + h[i+1,0]) + 0.125 * step * (dh[i,0] - dh[i+1,0])\n",
    "        def_ref_v[i=1:nh-1], v[i,1] == 0.5 * (v[i,0] + v[i+1,0]) + 0.125 * step * (dv[i,0] - dv[i+1,0])\n",
    "        def_ref_m[i=1:nh-1], m[i,1] == 0.5 * (m[i,0] + m[i+1,0]) + 0.125 * step * (dm[i,0] - dm[i+1,0])\n",
    "\n",
    "        con_dh[i=1:nh], h[i,0] == h[i-1,0] + 1/6 * step * (dh[i-1,0] + dh[i,0] + 4 * dh[i,1])\n",
    "        con_dv[i=1:nh], v[i,0] == v[i-1,0] + 1/6 * step * (dv[i-1,0] + dv[i,0] + 4 * dv[i,1])\n",
    "        con_dm[i=1:nh], m[i,0] == m[i-1,0] + 1/6 * step * (dm[i-1,0] + dm[i,0] + 4 * dm[i,1])\n",
    "    end)\n",
    "    \n",
    "    #Boundary constraints\n",
    "    @constraints(model, begin\n",
    "        h_ic, h[0,0] == h_0\n",
    "        v_ic, v[0,0] == v_0\n",
    "        m_ic, m[0,0] == m_0\n",
    "        m_fc, m[nh,0] == m_f\n",
    "\n",
    "        h_ic_1, h[0,1] == h_0\n",
    "        v_ic_1, v[0,1] == v_0\n",
    "        m_ic_1, m[0,1] == m_0\n",
    "        # m_fc_1, m[nh,1] == m_f\n",
    "    end)\n",
    "\n",
    "    return model\n",
    "end\n",
    "\n",
    "function Generate_thrust_hersim(nhs=nhs)\n",
    "    P = Plots.plot(xlabel=\"Temps\", ylabel=\"Value\")\n",
    "    Thrusts = [[[] for i in range(1,length(nhs))] for j in range(1,2)]\n",
    "    for i in range(1,length(nhs))\n",
    "        nh = nhs[i]\n",
    "        model = rocket_model_hersim(nh)\n",
    "        JuMP.set_optimizer(model, Ipopt.Optimizer)\n",
    "        JuMP.optimize!(model)\n",
    "        T_value = value.(model[:T]);\n",
    "        print(T_value)\n",
    "        T_Array = Array(T_value[:,0]);\n",
    "        T_Array_dua = Array(T_value[:,1]);\n",
    "        Thrusts[1][i] = T_Array\n",
    "        Thrusts[2][i] = T_Array_dua\n",
    "        Plots.plot!(LinRange(0,0.2,length(T_Array)),T_Array,label=\"T values for nh = $nh\")\n",
    "    end\n",
    "    Plots.display(P)\n",
    "    return Thrusts\n",
    "end"
   ]
  },
  {
   "cell_type": "code",
   "execution_count": null,
   "metadata": {},
   "outputs": [],
   "source": [
    "nhs = [10]\n",
    "Thrusts = Generate_thrust_hersim()"
   ]
  },
  {
   "cell_type": "code",
   "execution_count": null,
   "metadata": {},
   "outputs": [],
   "source": []
  }
 ],
 "metadata": {
  "kernelspec": {
   "display_name": "Julia 1.11.1",
   "language": "julia",
   "name": "julia-1.11"
  },
  "language_info": {
   "file_extension": ".jl",
   "mimetype": "application/julia",
   "name": "julia",
   "version": "1.11.1"
  }
 },
 "nbformat": 4,
 "nbformat_minor": 2
}
