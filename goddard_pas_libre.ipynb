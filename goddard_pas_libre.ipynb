{
 "cells": [
  {
   "cell_type": "code",
   "execution_count": 1,
   "metadata": {},
   "outputs": [
    {
     "data": {
      "text/plain": [
       "rocket_model (generic function with 1 method)"
      ]
     },
     "metadata": {},
     "output_type": "display_data"
    }
   ],
   "source": [
    "using JuMP\n",
    "using Ipopt\n",
    "#using COPSBenchmark\n",
    "import Plots\n",
    "# Goddard Rocket Problem\n",
    "# Trapezoidal formulation\n",
    "function rocket_model(nh)\n",
    "    h_0 = 1.0\n",
    "    v_0 = 0.0\n",
    "    m_0 = 1.0\n",
    "    g_0 = 1.0\n",
    "    T_c = 3.5\n",
    "    h_c = 500.0\n",
    "    v_c = 620.0\n",
    "    m_c = 0.6\n",
    "\n",
    "    c = 0.5*sqrt(g_0 * h_0)\n",
    "    m_f = m_c * m_0\n",
    "    D_c = 0.5 * v_c * (m_0 / g_0)\n",
    "    T_max = T_c * m_0 * g_0\n",
    "\n",
    "    model = Model()\n",
    "\n",
    "    @variables(model, begin\n",
    "        1.0 <= h[i=0:nh],          (start=1.0)\n",
    "        0.0 <= v[i=0:nh],          (start=i/nh*(1.0 - i/nh))\n",
    "        m_f <= m[i=0:nh] <= m_0,   (start=(m_f - m_0)*(i/nh) + m_0)\n",
    "        0.0 <= T[i=0:nh] <= T_max, (start=T_max/2.0)\n",
    "        1e-8 <= step[i=1:nh],      (start=1/nh)\n",
    "    end)\n",
    "\n",
    "    @expressions(model, begin\n",
    "        D[i=0:nh],  D_c*v[i]^2*exp(-h_c*(h[i] - h_0))/h_0\n",
    "        g[i=0:nh],  g_0 * (h_0 / h[i])^2\n",
    "        dh[i=0:nh], v[i]\n",
    "        dv[i=0:nh], (T[i] - D[i] - m[i]*g[i]) / m[i]\n",
    "        dm[i=0:nh], -T[i]/c\n",
    "    end)\n",
    "\n",
    "    @objective(model, Max, h[nh])\n",
    "\n",
    "    # Dynamics\n",
    "    @constraints(model, begin\n",
    "        con_dh[i=1:nh], h[i] == h[i-1] + 0.5 * step[i] * (dh[i] + dh[i-1])\n",
    "        con_dv[i=1:nh], v[i] == v[i-1] + 0.5 * step[i] * (dv[i] + dv[i-1])\n",
    "        con_dm[i=1:nh], m[i] == m[i-1] + 0.5 * step[i] * (dm[i] + dm[i-1])\n",
    "        con_step, sum(step) == 0.2\n",
    "    end)\n",
    "    # Boundary constraints\n",
    "    @constraints(model, begin\n",
    "        h_ic, h[0] == h_0\n",
    "        v_ic, v[0] == v_0\n",
    "        m_ic, m[0] == m_0\n",
    "        m_fc, m[nh] == m_f\n",
    "    end)\n",
    "\n",
    "    return model\n",
    "end\n"
   ]
  },
  {
   "cell_type": "code",
   "execution_count": 2,
   "metadata": {},
   "outputs": [
    {
     "data": {
      "text/plain": [
       "Generate_thrust (generic function with 2 methods)"
      ]
     },
     "metadata": {},
     "output_type": "display_data"
    }
   ],
   "source": [
    "function Generate_thrust(nhs=nhs)\n",
    "    Thrusts = [[] for i in range(1,length(nhs))]\n",
    "    Steps = [[] for i in range(1,length(nhs))]\n",
    "    \n",
    "    P = Plots.plot(xlabel=\"Temps\", ylabel=\"Value\")\n",
    "    for i in range(1,length(nhs))\n",
    "        nh = nhs[i]\n",
    "        model = rocket_model(nh)\n",
    "        JuMP.set_optimizer(model, Ipopt.Optimizer)\n",
    "        JuMP.optimize!(model)\n",
    "        Thrusts[i] = Array(value.(model[:T]))\n",
    "        Steps[i] = [0;cumsum(Array(value.(model[:step])))]\n",
    "        Plots.plot!(Steps[i],Thrusts[i],label=\"T values for nh = $nh\")\n",
    "    end\n",
    "    print(\"Loop done\")\n",
    "    return P\n",
    "end\n",
    "#p = Generate_thrust([100]);\n",
    "\n",
    "# p1 = Plots.plot(steps,title = \"pas de chaque indice\", ylabel = \"sec\",label = \"step\")\n",
    "# p2 = Plots.plot(Thrusts,title = \"Thrust de chaque indice\", ylabel = \"Value\",label = \"T Value\")\n",
    "# Plots.plot(p1,p2,Layout = (1,2))"
   ]
  },
  {
   "cell_type": "code",
   "execution_count": null,
   "metadata": {},
   "outputs": [],
   "source": [
    "p = Generate_thrust([100]);\n",
    "Plots.display(p)"
   ]
  },
  {
   "cell_type": "code",
   "execution_count": null,
   "metadata": {},
   "outputs": [],
   "source": [
    "p1 = Plots.plot([0;cumsum(steps)],title = \"step by indice\",ylabel = \"time\",label = \"added steps\");\n",
    "p2 = Plots.plot(Thrust,title = \"T by indice\",ylabel = \"value\",label = \"T value\");\n",
    "p3 = Plots.plot([0;cumsum(steps)],Thrust,title = \"T by time\",ylabel = \"value\",label = \"T value\",xlabel = \"Time\")\n",
    "Plots.plot(p1,p2,p3,layout = (1,3))"
   ]
  },
  {
   "cell_type": "code",
   "execution_count": null,
   "metadata": {},
   "outputs": [],
   "source": []
  }
 ],
 "metadata": {
  "kernelspec": {
   "display_name": "Julia 1.11.1",
   "language": "julia",
   "name": "julia-1.11"
  },
  "language_info": {
   "file_extension": ".jl",
   "mimetype": "application/julia",
   "name": "julia",
   "version": "1.11.1"
  }
 },
 "nbformat": 4,
 "nbformat_minor": 2
}
