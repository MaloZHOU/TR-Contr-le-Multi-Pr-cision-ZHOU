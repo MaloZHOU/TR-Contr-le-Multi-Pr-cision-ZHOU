{
 "cells": [
  {
   "cell_type": "markdown",
   "metadata": {},
   "source": [
    "Using the Hermite-Simpson Method: \n",
    "$$\n",
    "k_1 = h_i f_i\\\\\n",
    "k_2 = h_1 f(y_i+\\frac{1}{2}k_1,t_i+\\frac{1}{2}h_i) \\\\\n",
    "k_3 = h_i f(y_i+\\frac{1}{2}k_2,t_i+\\frac{1}{2}h_i) \\\\ \n",
    "k_4 = h_1 f(y_i+k_3,t_{i+1}) \\\\\n",
    "y_{i+1} = y_i+ \\frac{1}{6}(k_1+2k_2+2k_3+k_4)\n",
    "$$"
   ]
  },
  {
   "cell_type": "markdown",
   "metadata": {},
   "source": [
    "Parmis les équations, la deuxième, où les deux paramètres d'équation dynamique sont pas donné directement, est le plus difficile à réalisé en considérant l'interpolation de l'état et du temps"
   ]
  },
  {
   "cell_type": "code",
   "execution_count": 1,
   "metadata": {},
   "outputs": [],
   "source": [
    "using JuMP\n",
    "using Ipopt\n",
    "#using COPSBenchmark\n",
    "import Plots"
   ]
  },
  {
   "cell_type": "code",
   "execution_count": null,
   "metadata": {},
   "outputs": [
    {
     "data": {
      "text/plain": [
       "Generate_thrust_Runge (generic function with 2 methods)"
      ]
     },
     "metadata": {},
     "output_type": "display_data"
    }
   ],
   "source": [
    "function rocket_model_Runge(nh)\n",
    "    h_0 = 1.0   #hauteur init\n",
    "    v_0 = 0.0   #vitesse init\n",
    "    m_0 = 1.0   #masse init\n",
    "    g_0 = 1.0   #grativité init\n",
    "    T_c = 3.5\n",
    "    h_c = 500.0\n",
    "    v_c = 620.0\n",
    "    m_c = 0.6\n",
    "\n",
    "    c = 0.5*sqrt(g_0 * h_0)\n",
    "    m_f = m_c * m_0\n",
    "    D_c = 0.5 * v_c * (m_0 / g_0)\n",
    "    T_max = T_c * m_0 * g_0\n",
    "\n",
    "    model = Model()\n",
    "\n",
    "    @variables(model, begin\n",
    "        1.0 <= h[i=0:nh,j=0:4],          (start=1.0)\n",
    "        0.0 <= v[i=0:nh,j=0:4],          (start=i/nh*(1.0 - i/nh))\n",
    "        m_f <= m[i=0:nh,j=0:4] <= m_0,   (start=(m_f - m_0)*(i/nh) + m_0)\n",
    "        0.0 <= T[i=0:nh,j=0:4] <= T_max, (start=T_max/2.0)\n",
    "        0.0 <= step,               (start=1/nh)\n",
    "    end)\n",
    "\n",
    "    @expressions(model, begin\n",
    "        D[i=0:nh,j=0:4],  D_c*v[i,j]^2*exp(-h_c*(h[i,j] - h_0))/h_0\n",
    "        g[i=0:nh,j=0:4],  g_0 * (h_0 / h[i,j])^2\n",
    "        dh[i=0:nh,j=0:4], v[i,j]\n",
    "        dv[i=0:nh,j=0:4], (T[i,j] - D[i,j] - m[i,j]*g[i,j]) / m[i,j]\n",
    "        dm[i=0:nh,j=0:4], -T[i,j]/c\n",
    "    end)\n",
    "\n",
    "    @objective(model, Max, h[nh,0])\n",
    "\n",
    "    #Runge-Kutta Method\n",
    "    @constraints(model,begin\n",
    "    #x1 = x0 + 0.5 * k1, x in {h,v,m}:\n",
    "    def_h1[i=0:nh], h[i,1] == 0.5 * step * dh[i,0] + h[i,0]\n",
    "    def_v1[i=0:nh], v[i,1] == 0.5 * step * dv[i,0] + v[i,0]\n",
    "    def_m1[i=0:nh], m[i,1] == 0.5 * step * dm[i,0] + m[i,0]\n",
    "\n",
    "    #x2 = x0 + 0.5 * k2, x in {h,v,m}:\n",
    "    def_h2[i=0:nh], h[i,2] == 0.5 * step * dh[i,1] + h[i,0]\n",
    "    con_v2[i=0:nh], v[i,2] == 0.5 * step * dv[i,1] + v[i,0]\n",
    "    con_m2[i=0:nh], m[i,2] == 0.5 * step * dm[i,1] + m[i,0]\n",
    "\n",
    "    #x3 = x0 + k3, x in {h,v,m}:\n",
    "    def_h3[i=0:nh], h[i,3] == step * dh[i,2] + h[i,0]\n",
    "    con_v3[i=0:nh], v[i,3] == step * dv[i,2] + v[i,0]\n",
    "    con_m3[i=0:nh], m[i,3] == step * dm[i,2] + m[i,0]       \n",
    "\n",
    "    #x4 = k4\n",
    "    def_h4[i=0:nh], h[i,4] == step * dh[i,3]\n",
    "    con_v4[i=0:nh], v[i,4] == step * dv[i,3]\n",
    "    con_m4[i=0:nh], m[i,4] == step * dm[i,3]\n",
    "\n",
    "    #x0[i+1] = x0[i] + (1 / 6) * (k1 + 2*k2 + 2*k3 + k4)\n",
    "    runge_kutta_h[i=0:nh-1], h[i+1,0] == h[i,0] + (1/6) * ( 2 * (h[i,1]-h[i,0]) + 4 * (h[i,2]-h[i,0]) + 2 * (h[i,3]-h[i,0]) +h[i,4])\n",
    "    runge_kutta_v[i=0:nh-1], v[i+1,0] == v[i,0] + (1/6) * ( 2 * (v[i,1]-v[i,0]) + 4 * (v[i,2]-v[i,0]) + 2 * (v[i,3]-v[i,0]) +v[i,4])\n",
    "    runge_kutta_m[i=0:nh-1], m[i+1,0] == m[i,0] + (1/6) * ( 2 * (m[i,1]-m[i,0]) + 4 * (m[i,2]-m[i,0]) + 2 * (m[i,3]-m[i,0]) +m[i,4])    end)\n",
    "    \n",
    "    #Boundary constraints\n",
    "    @constraints(model, begin\n",
    "        h_ic, h[0,0] == h_0\n",
    "        v_ic, v[0,0] == v_0\n",
    "        m_ic, m[0,0] == m_0\n",
    "        m_fc, m[nh,0] == m_f\n",
    "    end)\n",
    "\n",
    "    return model\n",
    "end\n",
    "\n",
    "function Generate_thrust_Runge(nhs=nhs)\n",
    "    P = Plots.plot(xlabel=\"Temps\", ylabel=\"Value\",title = \"Méthode de Runge-Kutta\")\n",
    "    Thrusts = [[] for i in range(1,length(nhs))]\n",
    "#    Thrusts = [[[] for i in range(1,length(nhs))] for j in range(1,2)]\n",
    "    for i in range(1,length(nhs))\n",
    "        nh = nhs[i]\n",
    "        model = rocket_model_Runge(nh)\n",
    "        JuMP.set_optimizer(model, Ipopt.Optimizer)\n",
    "        JuMP.optimize!(model)\n",
    "        T_value = value.(model[:T]);\n",
    "        T_Array = Array(T_value[:,0]);\n",
    "        Thrusts[i] = T_Array\n",
    "#        Thrusts[2][i] = T_Array_dua\n",
    "        Plots.plot!(LinRange(0,1,length(T_Array)),T_Array,label=\"T values for nh = $nh\")\n",
    "    end\n",
    "    Plots.display(P)\n",
    "    return Thrusts\n",
    "end"
   ]
  },
  {
   "cell_type": "code",
   "execution_count": null,
   "metadata": {},
   "outputs": [],
   "source": [
    "nhs = [100,500]\n",
    "Generate_thrust_Runge()"
   ]
  },
  {
   "cell_type": "code",
   "execution_count": null,
   "metadata": {},
   "outputs": [],
   "source": []
  }
 ],
 "metadata": {
  "kernelspec": {
   "display_name": "Julia 1.11.3",
   "language": "julia",
   "name": "julia-1.11"
  },
  "language_info": {
   "file_extension": ".jl",
   "mimetype": "application/julia",
   "name": "julia",
   "version": "1.11.3"
  }
 },
 "nbformat": 4,
 "nbformat_minor": 2
}
